{
 "cells": [
  {
   "cell_type": "markdown",
   "metadata": {},
   "source": [
    "# Running code with custom packages\n",
    "\n",
    "What if we want to run code that uses a non-standar"
   ]
  },
  {
   "cell_type": "code",
   "execution_count": 3,
   "metadata": {},
   "outputs": [],
   "source": [
    "import art"
   ]
  },
  {
   "cell_type": "code",
   "execution_count": 16,
   "metadata": {},
   "outputs": [
    {
     "name": "stdout",
     "output_type": "stream",
     "text": [
      "                                       \n",
      "                                       \n",
      "                                 ###   \n",
      " ####          ####               ##   \n",
      "##  #  ###    ## ##  ###   ###    ##   \n",
      "####  ## ##   ##    ## ## ## ##   ##   \n",
      "  ### ## ##   ##    ## ## ## ##   ##   \n",
      "#  ## ## ##   ## ## ## ## ## ##   ##   \n",
      "####   ###     ###   ###   ###  ###### \n",
      "                                       \n",
      "                                       \n",
      "\n"
     ]
    }
   ],
   "source": [
    "print(art.text2art(\"So Cool\", \"random\"))"
   ]
  },
  {
   "cell_type": "markdown",
   "metadata": {},
   "source": [
    "Add to "
   ]
  },
  {
   "cell_type": "code",
   "execution_count": null,
   "metadata": {},
   "outputs": [],
   "source": []
  }
 ],
 "metadata": {
  "kernelspec": {
   "display_name": "Python 3 (ipykernel)",
   "language": "python",
   "name": "python3"
  },
  "language_info": {
   "codemirror_mode": {
    "name": "ipython",
    "version": 3
   },
   "file_extension": ".py",
   "mimetype": "text/x-python",
   "name": "python",
   "nbconvert_exporter": "python",
   "pygments_lexer": "ipython3",
   "version": "3.8.10"
  },
  "widgets": {
   "application/vnd.jupyter.widget-state+json": {
    "state": {},
    "version_major": 2,
    "version_minor": 0
   }
  }
 },
 "nbformat": 4,
 "nbformat_minor": 4
}
