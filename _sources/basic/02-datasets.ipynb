{
 "cells": [
  {
   "cell_type": "markdown",
   "metadata": {},
   "source": [
    "# Using datasets\n",
    "First of all, repetition is helpful. Let's make art again."
   ]
  },
  {
   "cell_type": "code",
   "execution_count": 3,
   "metadata": {},
   "outputs": [
    {
     "name": "stdout",
     "output_type": "stream",
     "text": [
      "                                            \n",
      "  -_-/                ,- _~.             ,, \n",
      " (_ /                (' /|               || \n",
      "(_ --_   /'\\\\       ((  ||    /'\\\\  /'\\\\ || \n",
      "  --_ ) || ||       ((  ||   || || || || || \n",
      " _/  )) || ||        ( / |   || || || || || \n",
      "(_-_-   \\\\,/          -____- \\\\,/  \\\\,/  \\\\ \n",
      "                                            \n",
      "                                            \n",
      "\n"
     ]
    }
   ],
   "source": [
    "import art\n",
    "print(art.text2art(\"So Cool\", \"random\"))"
   ]
  },
  {
   "cell_type": "code",
   "execution_count": null,
   "metadata": {},
   "outputs": [],
   "source": []
  },
  {
   "cell_type": "markdown",
   "metadata": {},
   "source": [
    "Now, how do we get datasets into the environment?\n",
    "\n",
    "Following the Binder guide: https://github.com/binder-examples/getting-data\n",
    "\n",
    "- < 10 MB: Just put it in your folder of the Git repository\n",
    "- 10-500 MB: Create a `postBuild` script"
   ]
  },
  {
   "cell_type": "code",
   "execution_count": 4,
   "metadata": {},
   "outputs": [
    {
     "name": "stdout",
     "output_type": "stream",
     "text": [
      "#!/bin/sh\n",
      "\n",
      "# Basic case study data\n",
      "\n",
      "wget -q -O nz-stats.zip \"https://www.stats.govt.nz/assets/Uploads/New-Zealand-business-demography-statistics/New-Zealand-business-demography-statistics-At-February-2022/Download-data/CSV-data-load_data_metadata.zip\"\n",
      "\n",
      "unzip nz-stats.zip -d book/basic/data/\n",
      "# rm nz-stats.zip\n",
      "\n"
     ]
    }
   ],
   "source": [
    "with open(\"../../postBuild\", \"r\") as f:\n",
    "    print(f.read())"
   ]
  },
  {
   "cell_type": "code",
   "execution_count": 5,
   "metadata": {},
   "outputs": [],
   "source": [
    "import pandas as pd\n",
    "df = pd.read_csv(\"data/Data7602DescendingYearOrder.csv\")"
   ]
  },
  {
   "cell_type": "code",
   "execution_count": 6,
   "metadata": {},
   "outputs": [
    {
     "name": "stdout",
     "output_type": "stream",
     "text": [
      "        anzsic06     Area  year  geo_count  ec_count\n",
      "0              A  A100100  2022         93       190\n",
      "1              A  A100200  2022        138       190\n",
      "2              A  A100300  2022          6        25\n",
      "3              A  A100400  2022         57        50\n",
      "4              A  A100500  2022         57        95\n",
      "...          ...      ...   ...        ...       ...\n",
      "5985359    Total     T074  2000       1665      6200\n",
      "5985360    Total     T075  2000       3990     21800\n",
      "5985361    Total     T076  2000     123156    522300\n",
      "5985362    Total     T999  2000         15        60\n",
      "5985363    Total   TTotal  2000     406203   1599500\n",
      "\n",
      "[5985364 rows x 5 columns]\n"
     ]
    }
   ],
   "source": [
    "print(df)"
   ]
  },
  {
   "cell_type": "code",
   "execution_count": null,
   "metadata": {},
   "outputs": [],
   "source": []
  }
 ],
 "metadata": {
  "kernelspec": {
   "display_name": "Python 3 (ipykernel)",
   "language": "python",
   "name": "python3"
  },
  "language_info": {
   "codemirror_mode": {
    "name": "ipython",
    "version": 3
   },
   "file_extension": ".py",
   "mimetype": "text/x-python",
   "name": "python",
   "nbconvert_exporter": "python",
   "pygments_lexer": "ipython3",
   "version": "3.8.10"
  },
  "widgets": {
   "application/vnd.jupyter.widget-state+json": {
    "state": {},
    "version_major": 2,
    "version_minor": 0
   }
  }
 },
 "nbformat": 4,
 "nbformat_minor": 4
}
